{
 "cells": [
  {
   "cell_type": "code",
   "execution_count": 1,
   "metadata": {},
   "outputs": [],
   "source": [
    "import os\n",
    "import sys\n",
    "import numpy as np\n",
    "import pandas as pd"
   ]
  },
  {
   "cell_type": "code",
   "execution_count": 2,
   "metadata": {},
   "outputs": [],
   "source": [
    "\"\"\"\n",
    "Crea el dataframe con la lista de superconductores.\n",
    "\"\"\"\n",
    "\n",
    "supercond = './superconductors.csv'\n",
    "\n",
    "df_supercond_all = pd.read_csv(supercond)\n",
    "\n",
    "# Crear un nuevo DataFrame con solo la última columna\n",
    "df_supercond = pd.DataFrame(df_supercond_all.iloc[:, -1])"
   ]
  },
  {
   "cell_type": "code",
   "execution_count": 15,
   "metadata": {},
   "outputs": [
    {
     "name": "stdout",
     "output_type": "stream",
     "text": [
      "                 material\n",
      "0           Ba02La18Cu1O4\n",
      "1      Ba01La19Ag01Cu09O4\n",
      "2           Ba01La19Cu1O4\n",
      "3         Ba015La185Cu1O4\n",
      "4           Ba03La17Cu1O4\n",
      "...                   ...\n",
      "21258    Tm084Lu016Fe3Si5\n",
      "21259     Tl1Ba2Ca3Cu4O11\n",
      "21260            Nb08Pd02\n",
      "21261          Nb069Pd031\n",
      "21262         Fe1Se02Te08\n",
      "\n",
      "[21263 rows x 1 columns]\n"
     ]
    }
   ],
   "source": [
    "\"\"\"\n",
    "Cambia el formato del dataframe\n",
    "\"\"\"\n",
    "\n",
    "def eliminar_puntos(formula):\n",
    "    return formula.replace('.', '')\n",
    "\n",
    "df_supercond['material'] = df_supercond['material'].apply(eliminar_puntos)\n",
    "\n",
    "df_supercond.head()\n",
    "\n",
    "print(df_supercond)"
   ]
  },
  {
   "cell_type": "code",
   "execution_count": 5,
   "metadata": {},
   "outputs": [
    {
     "data": {
      "text/html": [
       "<div>\n",
       "<style scoped>\n",
       "    .dataframe tbody tr th:only-of-type {\n",
       "        vertical-align: middle;\n",
       "    }\n",
       "\n",
       "    .dataframe tbody tr th {\n",
       "        vertical-align: top;\n",
       "    }\n",
       "\n",
       "    .dataframe thead th {\n",
       "        text-align: right;\n",
       "    }\n",
       "</style>\n",
       "<table border=\"1\" class=\"dataframe\">\n",
       "  <thead>\n",
       "    <tr style=\"text-align: right;\">\n",
       "      <th></th>\n",
       "      <th>Red de Bravais</th>\n",
       "      <th>material</th>\n",
       "      <th>ICSD</th>\n",
       "    </tr>\n",
       "  </thead>\n",
       "  <tbody>\n",
       "    <tr>\n",
       "      <th>0</th>\n",
       "      <td>BCC</td>\n",
       "      <td>Bi4Ge3O12</td>\n",
       "      <td>260560</td>\n",
       "    </tr>\n",
       "    <tr>\n",
       "      <th>1</th>\n",
       "      <td>BCC</td>\n",
       "      <td>Fe5O12Y3</td>\n",
       "      <td>28561</td>\n",
       "    </tr>\n",
       "    <tr>\n",
       "      <th>2</th>\n",
       "      <td>BCC</td>\n",
       "      <td>P3Rh1</td>\n",
       "      <td>43724</td>\n",
       "    </tr>\n",
       "    <tr>\n",
       "      <th>3</th>\n",
       "      <td>BCC</td>\n",
       "      <td>Mn1</td>\n",
       "      <td>44932</td>\n",
       "    </tr>\n",
       "    <tr>\n",
       "      <th>4</th>\n",
       "      <td>BCC</td>\n",
       "      <td>Rh7Sb6Yb4</td>\n",
       "      <td>409885</td>\n",
       "    </tr>\n",
       "  </tbody>\n",
       "</table>\n",
       "</div>"
      ],
      "text/plain": [
       "  Red de Bravais   material    ICSD\n",
       "0            BCC  Bi4Ge3O12  260560\n",
       "1            BCC   Fe5O12Y3   28561\n",
       "2            BCC      P3Rh1   43724\n",
       "3            BCC        Mn1   44932\n",
       "4            BCC  Rh7Sb6Yb4  409885"
      ]
     },
     "execution_count": 5,
     "metadata": {},
     "output_type": "execute_result"
    }
   ],
   "source": [
    "\"\"\"\n",
    "Creacion del data set de los datos disponibles\n",
    "\"\"\"\n",
    "\n",
    "# Definir la ruta base donde se encuentran las carpetas con los archivos .txt\n",
    "ruta_base = './Data_raw'\n",
    "\n",
    "# Inicializar una lista para almacenar los datos de los archivos\n",
    "datos_archivos = []\n",
    "\n",
    "# Recorrer todas las carpetas y archivos en la ruta base\n",
    "for carpeta_raiz, carpetas, archivos in os.walk(ruta_base):\n",
    "    for nombre_archivo in archivos:\n",
    "        if nombre_archivo.endswith('.txt'):\n",
    "            ruta_archivo = os.path.join(carpeta_raiz, nombre_archivo)\n",
    "            \n",
    "            # Extraer los datos del nombre del archivo\n",
    "            nombre_split = nombre_archivo.split('_')\n",
    "            red_de_bravais = nombre_split[0]\n",
    "            formula = nombre_split[1]\n",
    "            icsd = nombre_split[-1].split('.')[0]\n",
    "            \n",
    "            # Agregar los datos a la lista\n",
    "            datos_archivos.append([red_de_bravais, formula, icsd])\n",
    "\n",
    "# Crear un DataFrame a partir de la lista de datos\n",
    "df_data = pd.DataFrame(datos_archivos, columns=['Red de Bravais', 'material', 'ICSD'])\n",
    "\n",
    "# Mostrar el DataFrame\n",
    "df_data.head()\n"
   ]
  },
  {
   "cell_type": "code",
   "execution_count": 6,
   "metadata": {},
   "outputs": [
    {
     "name": "stdout",
     "output_type": "stream",
     "text": [
      "        material Red de Bravais    ICSD\n",
      "0         Ba6C60            BCC   70062\n",
      "1      Ce1Co1In5            TET  102108\n",
      "2      Ce1Co1In5            TET  102108\n",
      "3      Ce1Co1In5            TET  102108\n",
      "4      Ce1Co1In5            TET  102108\n",
      "...          ...            ...     ...\n",
      "19479     Sb2Te3            RHL  185952\n",
      "19480     Sb2Te3            RHL  185946\n",
      "19481     Sb2Te3            RHL  262171\n",
      "19482     Sb2Te3            RHL  185949\n",
      "19483     Sb2Te3            RHL  185948\n",
      "\n",
      "[19484 rows x 3 columns]\n"
     ]
    }
   ],
   "source": [
    "\"\"\" \n",
    "Miro cuantos materiales son comunes\n",
    "\"\"\"\n",
    "\n",
    "# Supongamos que tienes dos DataFrames df1 y df2\n",
    "# Cada uno tiene una columna llamada \"Material\" que contiene los nombres de los materiales\n",
    "\n",
    "# Crear un DataFrame con los nombres de materiales comunes entre df1 y df2\n",
    "df_comunes = pd.merge(df_supercond, df_data, how='inner', on='material')\n",
    "\n",
    "# Mostrar el DataFrame con los materiales comunes\n",
    "print(df_comunes)"
   ]
  },
  {
   "cell_type": "code",
   "execution_count": 11,
   "metadata": {},
   "outputs": [
    {
     "name": "stdout",
     "output_type": "stream",
     "text": [
      "639\n"
     ]
    }
   ],
   "source": [
    "# Obtener los elementos únicos de la columna \"Material\"\n",
    "elementos_unicos = df_comunes['material'].unique()\n",
    "\n",
    "# Mostrar los elementos únicos\n",
    "cond = len(elementos_unicos)\n",
    "print(cond)"
   ]
  },
  {
   "cell_type": "code",
   "execution_count": 9,
   "metadata": {},
   "outputs": [
    {
     "name": "stdout",
     "output_type": "stream",
     "text": [
      "      Red de Bravais          material    ICSD\n",
      "0                BCC         Bi4Ge3O12  260560\n",
      "1                BCC         Bi4Ge3O12   39227\n",
      "2                BCC         Bi4Ge3O12  108872\n",
      "3                BCC         Bi4Ge3O12  156438\n",
      "4                BCC         Bi4Ge3O12   86276\n",
      "...              ...               ...     ...\n",
      "95175            NaN         Ti1Ir1Si1     NaN\n",
      "95176            NaN         Ti1Ir1Si1     NaN\n",
      "95177            NaN  Tm084Lu016Fe3Si5     NaN\n",
      "95178            NaN          Nb08Pd02     NaN\n",
      "95179            NaN        Nb069Pd031     NaN\n",
      "\n",
      "[75696 rows x 3 columns]\n"
     ]
    },
    {
     "name": "stderr",
     "output_type": "stream",
     "text": [
      "C:\\Users\\olaya\\AppData\\Local\\Temp\\ipykernel_25768\\4244433641.py:8: SettingWithCopyWarning: \n",
      "A value is trying to be set on a copy of a slice from a DataFrame\n",
      "\n",
      "See the caveats in the documentation: https://pandas.pydata.org/pandas-docs/stable/user_guide/indexing.html#returning-a-view-versus-a-copy\n",
      "  elementos_no_coincidentes.drop(columns=['_merge'], inplace=True)\n"
     ]
    }
   ],
   "source": [
    "# Realizar un merge de los dos DataFrames\n",
    "df_merge = pd.merge(df_data, df_supercond, on='material', how='outer', indicator=True)\n",
    "\n",
    "# Filtrar el DataFrame para obtener los elementos que están en un DataFrame pero no en el otro\n",
    "elementos_no_coincidentes = df_merge[df_merge['_merge'] != 'both']\n",
    "\n",
    "# Eliminar la columna de indicador de merge\n",
    "elementos_no_coincidentes.drop(columns=['_merge'], inplace=True)\n",
    "\n",
    "# Mostrar el DataFrame con los elementos no coincidentes\n",
    "print(elementos_no_coincidentes)"
   ]
  },
  {
   "cell_type": "code",
   "execution_count": 13,
   "metadata": {},
   "outputs": [
    {
     "name": "stdout",
     "output_type": "stream",
     "text": [
      "42070\n"
     ]
    }
   ],
   "source": [
    "# Obtener los elementos únicos de la columna \"Material\"\n",
    "elementos_unicos = elementos_no_coincidentes['material'].unique()\n",
    "\n",
    "# Mostrar los elementos únicos\n",
    "nocond = len(elementos_unicos)\n",
    "print(nocond)"
   ]
  },
  {
   "cell_type": "code",
   "execution_count": 14,
   "metadata": {},
   "outputs": [
    {
     "data": {
      "text/plain": [
       "1.4961717670748553"
      ]
     },
     "execution_count": 14,
     "metadata": {},
     "output_type": "execute_result"
    }
   ],
   "source": [
    "100*cond/(cond+nocond)"
   ]
  }
 ],
 "metadata": {
  "kernelspec": {
   "display_name": "base",
   "language": "python",
   "name": "python3"
  },
  "language_info": {
   "codemirror_mode": {
    "name": "ipython",
    "version": 3
   },
   "file_extension": ".py",
   "mimetype": "text/x-python",
   "name": "python",
   "nbconvert_exporter": "python",
   "pygments_lexer": "ipython3",
   "version": "3.11.5"
  }
 },
 "nbformat": 4,
 "nbformat_minor": 2
}
