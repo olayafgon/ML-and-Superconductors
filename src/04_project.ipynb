{
 "cells": [
  {
   "cell_type": "code",
   "execution_count": 5,
   "metadata": {},
   "outputs": [],
   "source": [
    "import sys\n",
    "import pandas as pd\n",
    "\n",
    "pd.set_option('display.max_columns', None)\n",
    "\n",
    "sys.path.append('./../')\n",
    "import config"
   ]
  },
  {
   "cell_type": "code",
   "execution_count": 6,
   "metadata": {},
   "outputs": [],
   "source": [
    "class DataProcessor:\n",
    "    def __init__(self):\n",
    "        self.dos_csv_path = config.DOS_CSV_PATH\n",
    "        self.supercon_csv_path = config.SUPERCON_CSV_PATH\n",
    "\n",
    "    def read_supercon_database(self):\n",
    "        self.supercon_data = pd.read_csv(self.supercon_csv_path, skiprows=1)\n",
    "        self.supercon_data.columns = ['chemical_formula', 'critical_temperature_k', 'ICSD', 'synth_doped']\n",
    "        self.supercon_data['ICSD'] = self.supercon_data['ICSD'].str.replace('ICSD-', '')\n",
    "\n",
    "    def read_materials_csv(self):\n",
    "        self.materials_data = pd.read_csv(self.dos_csv_path)\n",
    "        self.ICSD_preprocessor()\n",
    "        self.identify_superconductors()\n",
    "\n",
    "    def ICSD_preprocessor(self):\n",
    "        self.materials_data['ICSD'] = pd.to_numeric(self.materials_data['ICSD'], errors='coerce').astype('Int64')\n",
    "        num_nulos = self.materials_data['ICSD'].isnull().sum()\n",
    "        len_df_pre = len(self.materials_data)\n",
    "        print(f\"{num_nulos} rows ({num_nulos/len_df_pre*100:.4f} %) where dropped because of null on ICSD.\")\n",
    "        self.materials_data.dropna(subset=['ICSD'], inplace=True)\n",
    "\n",
    "    def identify_superconductors(self):\n",
    "        ICSD_supercon = self.supercon_data.ICSD.unique().astype(int).tolist()\n",
    "        self.materials_data.insert(5, 'is_superconductor', self.materials_data.ICSD.isin(ICSD_supercon))\n",
    "\n",
    "    def processor(self):\n",
    "        self.read_supercon_database()\n",
    "        self.read_materials_csv()\n",
    "        return self.materials_data, self.supercon_data\n",
    "\n",
    "\n",
    "MaterialsProcessor = DataProcessor()\n",
    "materials_data, supercon_data = MaterialsProcessor.processor()"
   ]
  },
  {
   "cell_type": "code",
   "execution_count": null,
   "metadata": {},
   "outputs": [],
   "source": []
  }
 ],
 "metadata": {
  "kernelspec": {
   "display_name": "superconductor",
   "language": "python",
   "name": "python3"
  },
  "language_info": {
   "codemirror_mode": {
    "name": "ipython",
    "version": 3
   },
   "file_extension": ".py",
   "mimetype": "text/x-python",
   "name": "python",
   "nbconvert_exporter": "python",
   "pygments_lexer": "ipython3",
   "version": "3.10.13"
  }
 },
 "nbformat": 4,
 "nbformat_minor": 2
}
